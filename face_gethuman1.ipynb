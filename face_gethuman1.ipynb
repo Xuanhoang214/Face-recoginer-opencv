{
 "metadata": {
  "language_info": {
   "codemirror_mode": {
    "name": "ipython",
    "version": 3
   },
   "file_extension": ".py",
   "mimetype": "text/x-python",
   "name": "python",
   "nbconvert_exporter": "python",
   "pygments_lexer": "ipython3",
   "version": "3.8.10"
  },
  "orig_nbformat": 2,
  "kernelspec": {
   "name": "python3810jvsc74a57bd0210a5ea915e8f09d59fd70258855dd3abea7ec8d062af66b17bd2fbb81710eab",
   "display_name": "Python 3.8.10 64-bit ('env_Sid': conda)"
  }
 },
 "nbformat": 4,
 "nbformat_minor": 2,
 "cells": [
  {
   "source": [
    "Thành viên nhóm:\n",
    "===\n",
    "- Mai Xuân Hoàng: 18047371\n",
    "- Huỳnh Thị Trang Đài: 18065251\n",
    "- Nguyễn Văn Đức: 18039151"
   ],
   "cell_type": "markdown",
   "metadata": {}
  },
  {
   "source": [
    "\n",
    "MÔ TẢ BÀI TOÁN: NHẬN DIỆN KHUÔN MẶT\n",
    "===\n",
    "- Nhận diện khuôn mặt là một công nghệ máy tính đang được sử dụng trong nhiều ứng dụng khác nhau để xác định khuôn mặt người trong hình ảnh kỹ thuật số.  \n",
    "- Nhận diện khuôn mặt cũng đề cập đến quá trình tâm lý mà con người xác định vị trí và quan sát khuôn mặt trong một cảnh trực quan.\n",
    "- Nhận diện khuôn mặt được sử dụng trong sinh trắc học, thường là một phần của hệ thống nhận dạng khuôn mặt. Nó cũng được sử dụng trong giám sát video, giao diện máy tính của con người và quản lý cơ sở dữ liệu hình ảnh.\n"
   ],
   "cell_type": "markdown",
   "metadata": {}
  },
  {
   "source": [
    "Ý tưởng bài toán:\n",
    "===\n",
    "- Tạo dataset: thu thập hình ảnh từ Webcam máy tính và gán nhãn để train.\n",
    "- Train data thu thập được bằng thư viện opencv.\n",
    "- Nhận diện khuôn mặt.\n"
   ],
   "cell_type": "markdown",
   "metadata": {}
  },
  {
   "source": [
    "- Đầu vào: hình ảnh chứa 1 khuôn mặt  chưa được gán nhãn\n",
    "- Đầu ra: hình ảnh chứa khuôn mặt đã được gán nhãn"
   ],
   "cell_type": "markdown",
   "metadata": {}
  },
  {
   "source": [
    "Tài liệu tham khảo:\n",
    "===\n",
    "https://github.com/thecodacus/Face-Recognition?fbclid=IwAR138BzzHWqbNkrWlDFnsMTN4RjVZIZfzpVbRzco2Fb4uQb4OlBeS5MOJQM\n",
    "https://www.youtube.com/watch?v=Lusa912ax5g&t=3s\n",
    "https://viblo.asia/p/xay-dung-he-thong-kiem-soat-nhan-dang-khuon-mat-voi-opencv-dlib-va-deep-learning-4P8566ma5Y3\n",
    "https://www.bogotobogo.com/python/OpenCV_Python/python_opencv3_Image_Object_Detection_Face_Detection_Haar_Cascade_Classifiers.php\n",
    "https://www.sqlite.org/index.html\n",
    "https://www.geeksforgeeks.org/os-module-python-examples/\n",
    "https://pillow.readthedocs.io/en/stable/reference/Image.html\n",
    "https://docs.opencv.org/3.4/df/d25/classcv_1_1face_1_1LBPHFaceRecognizer.html\n",
    "https://stackoverflow.com/questions/51143458/difference-in-output-with-waitkey0-and-waitkey1/51143586\n",
    "https://uniduc.com/vi/blog/cung-tim-hieu-ve-thuat-toan-nhan-dien-khuon-mat-face-detection-su-dung-opencv"
   ],
   "cell_type": "markdown",
   "metadata": {}
  },
  {
   "cell_type": "code",
   "execution_count": 7,
   "metadata": {},
   "outputs": [],
   "source": [
    "import cv2\n",
    "import numpy as np \n",
    "import sqlite3\n",
    "import os"
   ]
  },
  {
   "cell_type": "code",
   "execution_count": 8,
   "metadata": {},
   "outputs": [],
   "source": [
    "#Tạo hàm kết nối database, kiểm tra trong database có dữ liệu..."
   ]
  },
  {
   "cell_type": "code",
   "execution_count": 9,
   "metadata": {},
   "outputs": [],
   "source": [
    "#thêm mới hoặc update csdl(id, name)\n",
    "def insertOrUpdate(id, name):\n",
    "    #kết nối database\n",
    "    con = sqlite3.connect(r'C:\\Users\\mxuan\\data.db', timeout=10)\n",
    "    #truy vấn tất cả các cột với đk=id\n",
    "    query = \"SELECT * FROM people WHERE ID=\"+ str(id)\n",
    "    #lấy bản ghi từ table csdl\n",
    "    cusror = con.execute(query)\n",
    "    print(cusror)\n",
    "    isRecordExit = 0\n",
    "    #nếu table có bản ghi = 1\n",
    "    for row in cusror:\n",
    "        print(\"ID:\\n\", row[0])\n",
    "        print(\"Name:\\n\", row[1])\n",
    "        isRecordExit = 1 \n",
    "    #nếu k có bản ghi nào thì insert\n",
    "    num = 0\n",
    "    if(isRecordExit == 0):\n",
    "        num = 1\n",
    "        query = \"INSERT INTO people(ID, Name)  VALUES(\"+ str(id) +\",'\"+str(name)+\"')\"\n",
    "       \n",
    "    else:\n",
    "        query = \"UPDATE people SET Name='\"+str(name)+\"'WHERE ID=\"+str(id)\n",
    "    #chay query insert hoac update\n",
    "    con.execute(query)\n",
    "    #Lưu database\n",
    "    con.commit()\n",
    "    if num == 0:\n",
    "        print(\"update thanh cong\")\n",
    "    else:\n",
    "        print(\"insert thanh cong\")\n",
    "    #Đóng database\n",
    "    con.close()"
   ]
  },
  {
   "cell_type": "code",
   "execution_count": 10,
   "metadata": {},
   "outputs": [
    {
     "output_type": "stream",
     "name": "stdout",
     "text": [
      "<sqlite3.Cursor object at 0x0000028477E359D0>\nID:\n 1\nName:\n Trang\nupdate thanh cong\n"
     ]
    }
   ],
   "source": [
    "#thư viện nhận diện khuôn mặt có sẵn trong opencv\n",
    "face_cascade= cv2.CascadeClassifier(cv2.data.haarcascades+'haarcascade_frontalface_default.xml')\n",
    "id = input(\"Enter your ID:\")\n",
    "name = input(\"Enter your Name:\")\n",
    "#Gọi hàm, truyền vào id và name\n",
    "insertOrUpdate(id, name)"
   ]
  },
  {
   "source": [
    "#Tạo hàm thu thập 100 khuôn mặt bằng camera"
   ],
   "cell_type": "markdown",
   "metadata": {}
  },
  {
   "cell_type": "code",
   "execution_count": 4,
   "metadata": {},
   "outputs": [],
   "source": [
    "#tạo biến đếm số lượng ảnh\n",
    "sampleNum = 0\n",
    "#truy cập camera thứ nhất\n",
    "cap = cv2.VideoCapture(0)\n",
    "while True:\n",
    "    #đọc dữ liệu webcame: ret(true|fasle) nếu truy cập thành công, frame là image lấy từ webcame\n",
    "    ret,frame = cap.read()\n",
    "    #chuyển frame về ảnh xám\n",
    "    gray= cv2.cvtColor(src=frame, code=cv2.COLOR_BGR2GRAY)\n",
    "    #gọi thư viện nhận diện khuôn mặt: 1.3 scaleFactor, 5 minNeightbors\n",
    "    faces= face_cascade.detectMultiScale(gray, 1.3, 5)\n",
    "    #vẽ hình vuông, (x,y) tọa độ điểm, (w,h) tịnh tiến chiều weight, height\n",
    "    for(x,y,w,h) in faces:\n",
    "        #vẽ hình vuông\n",
    "        cv2.rectangle(frame,(x,y),(x+w,y+h),(0,0,255),thickness=2)\n",
    "        #tạo folder lưu ảnh, ktra xem đã tồn tại dataset chưa\n",
    "        if not os.path.exists('dataset'):\n",
    "            #tạo folder\n",
    "            os.makedirs('dataset')\n",
    "        sampleNum += 1\n",
    "        #lưu ảnh xám name:\"user.(id).(index).jpg\"\n",
    "        cv2.imwrite('dataset/Uers.'+str(id)+'.'+str(sampleNum)+'.jpg',gray[y:y+h, x: x + w])\n",
    "    cv2.imshow('frame', frame)\n",
    "    cv2.waitKey(1)\n",
    "    #hơn 100 image thì break\n",
    "    if sampleNum > 100:\n",
    "        break\n",
    "cap.release()\n",
    "cv2.destroyAllWindows()"
   ]
  },
  {
   "cell_type": "code",
   "execution_count": null,
   "metadata": {},
   "outputs": [],
   "source": []
  }
 ]
}