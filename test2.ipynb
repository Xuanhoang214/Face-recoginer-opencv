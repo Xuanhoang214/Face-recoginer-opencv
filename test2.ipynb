{
 "metadata": {
  "language_info": {
   "codemirror_mode": {
    "name": "ipython",
    "version": 3
   },
   "file_extension": ".py",
   "mimetype": "text/x-python",
   "name": "python",
   "nbconvert_exporter": "python",
   "pygments_lexer": "ipython3",
   "version": "3.8.10"
  },
  "orig_nbformat": 2,
  "kernelspec": {
   "name": "python3810jvsc74a57bd0210a5ea915e8f09d59fd70258855dd3abea7ec8d062af66b17bd2fbb81710eab",
   "display_name": "Python 3.8.10 64-bit ('env_Sid': conda)"
  }
 },
 "nbformat": 4,
 "nbformat_minor": 2,
 "cells": [
  {
   "cell_type": "code",
   "execution_count": 1,
   "metadata": {},
   "outputs": [],
   "source": [
    "import time\n",
    "import dlib\n",
    "import cv2\n",
    "\n",
    "# Đọc ảnh đầu vào\n",
    "image = cv2.imread('img1.jpg')\n"
   ]
  },
  {
   "cell_type": "code",
   "execution_count": 2,
   "metadata": {},
   "outputs": [],
   "source": [
    "# Khai báo việc sử dụng các hàm của dlib\n",
    "hog_face_detector = dlib.get_frontal_face_detector()\n",
    "cnn_face_detector = dlib.cnn_face_detection_model_v1('mmod_human_face_detector.dat')"
   ]
  },
  {
   "cell_type": "code",
   "execution_count": 3,
   "metadata": {},
   "outputs": [
    {
     "output_type": "stream",
     "name": "stdout",
     "text": [
      "Hog + SVM Execution time: 2.4334263801574707\n"
     ]
    }
   ],
   "source": [
    "# Thực hiện xác định bằng HOG và SVM\n",
    "start = time.time()\n",
    "faces_hog = hog_face_detector(image, 1)\n",
    "end = time.time()\n",
    "print(\"Hog + SVM Execution time: \" + str(end-start))"
   ]
  },
  {
   "cell_type": "code",
   "execution_count": 4,
   "metadata": {},
   "outputs": [],
   "source": [
    "# Vẽ một đường bao màu xanh lá xung quanh các khuôn mặt được xác định ra bởi HOG + SVM\n",
    "for face in faces_hog:\n",
    "  x = face.left()\n",
    "  y = face.top()\n",
    "  w = face.right() - x\n",
    "  h = face.bottom() - y\n",
    "\n",
    "  cv2.rectangle(image, (x,y), (x+w,y+h), (0,255,0), 2)\n"
   ]
  },
  {
   "cell_type": "code",
   "execution_count": null,
   "metadata": {},
   "outputs": [],
   "source": [
    "# Thực hiện xác định bằng CNN\n",
    "start = time.time()\n",
    "faces_cnn = cnn_face_detector(image, 1)\n",
    "end = time.time()\n",
    "print(\"CNN Execution time: \" + str(end-start))"
   ]
  },
  {
   "cell_type": "code",
   "execution_count": null,
   "metadata": {},
   "outputs": [],
   "source": [
    "# Vẽ một đường bao đỏ xung quanh các khuôn mặt được xác định bởi CNN\n",
    "for face in faces_cnn:\n",
    "  x = face.rect.left()\n",
    "  y = face.rect.top()\n",
    "  w = face.rect.right() - x\n",
    "  h = face.rect.bottom() - y\n",
    "\n",
    "  cv2.rectangle(image, (x,y), (x+w,y+h), (0,0,255), 2)\n",
    "\n",
    "cv2.imshow(\"image\", image)\n",
    "cv2.waitKey(0)"
   ]
  },
  {
   "cell_type": "code",
   "execution_count": null,
   "metadata": {},
   "outputs": [],
   "source": []
  }
 ]
}