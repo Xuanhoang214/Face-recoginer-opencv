{
 "metadata": {
  "language_info": {
   "codemirror_mode": {
    "name": "ipython",
    "version": 3
   },
   "file_extension": ".py",
   "mimetype": "text/x-python",
   "name": "python",
   "nbconvert_exporter": "python",
   "pygments_lexer": "ipython3",
   "version": "3.8.10"
  },
  "orig_nbformat": 2,
  "kernelspec": {
   "name": "python3810jvsc74a57bd0210a5ea915e8f09d59fd70258855dd3abea7ec8d062af66b17bd2fbb81710eab",
   "display_name": "Python 3.8.10 64-bit ('env_Sid': conda)"
  }
 },
 "nbformat": 4,
 "nbformat_minor": 2,
 "cells": [
  {
   "cell_type": "code",
   "execution_count": 1,
   "metadata": {},
   "outputs": [],
   "source": [
    "import cv2\n",
    "import numpy as np \n",
    "import os\n",
    "import sqlite3\n",
    "from PIL import Image"
   ]
  },
  {
   "cell_type": "code",
   "execution_count": 2,
   "metadata": {},
   "outputs": [],
   "source": [
    "#train hinh anh\n",
    "face_cascade= cv2.CascadeClassifier(cv2.data.haarcascades+'haarcascade_frontalface_default.xml')\n",
    "recognizer = cv2.face.LBPHFaceRecognizer_create()\n",
    "recognizer.read(r\"D:\\STUDY\\MACHINE\\DETAI\\recoginzer\\trainningData.yml\")"
   ]
  },
  {
   "cell_type": "code",
   "execution_count": 3,
   "metadata": {},
   "outputs": [],
   "source": [
    "def getProfile(id):\n",
    "    con = sqlite3.connect(r'C:\\Users\\mxuan\\data.db')\n",
    "    query = \"SELECT * FROM people WHERE ID=\"+ str(id)\n",
    "    cusror = con.execute(query)\n",
    "    profile = None\n",
    "    for row in cusror:\n",
    "        profile = row\n",
    "    con.close()\n",
    "    return profile\n",
    "    "
   ]
  },
  {
   "cell_type": "code",
   "execution_count": 4,
   "metadata": {},
   "outputs": [
    {
     "output_type": "stream",
     "name": "stdout",
     "text": [
      "('2', 'Duc')\n"
     ]
    }
   ],
   "source": [
    "print(getProfile(2))"
   ]
  },
  {
   "cell_type": "code",
   "execution_count": 5,
   "metadata": {},
   "outputs": [],
   "source": [
    "cap = cv2.VideoCapture(0)\n",
    "fontface = cv2.FONT_HERSHEY_SCRIPT_SIMPLEX\n",
    "while(True):\n",
    "    ret,frame = cap.read()\n",
    "    gray = cv2.cvtColor(frame, cv2.COLOR_RGB2GRAY)\n",
    "    faces= face_cascade.detectMultiScale(gray, 1.3, 5)\n",
    "    for(x, y, w, h) in faces:\n",
    "        cv2.rectangle(frame, (x, y), (x + w, y + h), (0,225, 0), 2)\n",
    "        roi_gray = gray[y: y+h, x: x+w]\n",
    "        id, confidence = recognizer.predict(roi_gray)\n",
    "        if confidence < 40:\n",
    "            profile = getProfile(id)\n",
    "            if profile != None:\n",
    "                cv2.putText(frame, \"\"+str(profile[1]), (x+10, y+h+30), fontface,1, (0, 255, 0), 2)\n",
    "        else:\n",
    "            cv2.putText(frame, \"unknow\", (x+10, y+h+30), fontface,1, (0, 0, 255), 2)\n",
    "    cv2.imshow(\"frame\",frame)\n",
    "    if(cv2.waitKey(1)==ord('q')):\n",
    "        break\n",
    "cap.release()\n",
    "cv2.destroyAllWindows()"
   ]
  },
  {
   "cell_type": "code",
   "execution_count": null,
   "metadata": {},
   "outputs": [],
   "source": []
  }
 ]
}